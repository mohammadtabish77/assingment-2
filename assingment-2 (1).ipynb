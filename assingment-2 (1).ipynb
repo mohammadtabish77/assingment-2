{
 "cells": [
  {
   "cell_type": "code",
   "execution_count": 2,
   "id": "d50289d2-3e45-490f-b260-dda9ddf2014e",
   "metadata": {},
   "outputs": [],
   "source": [
    "#Q1\n",
    "#to code comment in python we have to put hashtag(#) in the start of the line\n",
    "# there are theree types of comment in python (i)inline comment (ii)multiline comment (iii)docstring commment\n",
    "#(i)if we put hashtag in the starting of the line and its consist of only single line then its called as inline comment\n",
    "#(ii)if there is more than one line comment of inline comment than that comment is called as multiline comment we have to put hashtag in every line\n",
    "#(iii)docstring comment consist of (\"\"\")in the starting and in the end and it can be as long as we want\n",
    "#i.g.\n",
    "#(i)this is my inline comment\n",
    "#(ii)this is my\n",
    "#multiline comment\n",
    "#(iii)\"\"\"this is my docstring comment\"\"\""
   ]
  },
  {
   "cell_type": "code",
   "execution_count": 3,
   "id": "3c198fe7-aa00-4eb1-8a36-b0b3728993bb",
   "metadata": {},
   "outputs": [],
   "source": [
    "#Q2\n",
    "#A python varible is a symbolic name thats points to an object\n",
    "#i.g.( x = 45 ) here x is a  varible and points towards its value\n",
    "# to assing the values to a variables there is a assingment operator  denoted by \"=\" in python\n",
    "#i.g. ( a = 1 ) here a is assing to the value of 1 useing the assingement operator\n"
   ]
  },
  {
   "cell_type": "code",
   "execution_count": 10,
   "id": "9ee276e3-42d4-4e94-99e2-ee0ff598f5f0",
   "metadata": {},
   "outputs": [],
   "source": [
    "#Q3\n",
    "#to convert one data type to another in python,you simply use the type name as a function \n",
    "#i.g \n",
    "a=[1,2,3,4,5,\"tab\"]\n"
   ]
  },
  {
   "cell_type": "code",
   "execution_count": 11,
   "id": "1c613765-81d6-4a20-bcac-6f1f5ea021db",
   "metadata": {},
   "outputs": [
    {
     "data": {
      "text/plain": [
       "list"
      ]
     },
     "execution_count": 11,
     "metadata": {},
     "output_type": "execute_result"
    }
   ],
   "source": [
    "type(a)"
   ]
  },
  {
   "cell_type": "code",
   "execution_count": 12,
   "id": "c7fd04da-fcd2-49cd-b6ad-ace35961ead1",
   "metadata": {},
   "outputs": [
    {
     "data": {
      "text/plain": [
       "(1, 2, 3, 4, 5, 'tab')"
      ]
     },
     "execution_count": 12,
     "metadata": {},
     "output_type": "execute_result"
    }
   ],
   "source": [
    "tuple(a)"
   ]
  },
  {
   "cell_type": "code",
   "execution_count": 14,
   "id": "35ba0c21-ac63-462a-bc67-efcd168f10f2",
   "metadata": {},
   "outputs": [],
   "source": [
    "# here \"a\" is a type of list but we coverted it into a tuple \n"
   ]
  },
  {
   "cell_type": "code",
   "execution_count": 15,
   "id": "2a3d5585-d48c-41eb-8fb2-16b71facb2f1",
   "metadata": {},
   "outputs": [],
   "source": [
    "#Q4\n",
    "#first we have to open a command line and type  the word python followed by the path to your script file \n",
    "#i.g. python first_script.py then press enter button from the keybord and that's it "
   ]
  },
  {
   "cell_type": "code",
   "execution_count": 16,
   "id": "0cbc24be-02b3-4aa4-b8f4-868cea2278f0",
   "metadata": {},
   "outputs": [],
   "source": [
    "#Q5\n",
    "my_list = [1,2,3,4,5]"
   ]
  },
  {
   "cell_type": "code",
   "execution_count": 26,
   "id": "5a958119-b575-42cd-9424-9f34ddc37e48",
   "metadata": {},
   "outputs": [],
   "source": [
    "sub_list=(my_list[1:3])"
   ]
  },
  {
   "cell_type": "code",
   "execution_count": 27,
   "id": "adfb0d06-5068-4082-b321-38712c2b62b9",
   "metadata": {},
   "outputs": [
    {
     "data": {
      "text/plain": [
       "[2, 3]"
      ]
     },
     "execution_count": 27,
     "metadata": {},
     "output_type": "execute_result"
    }
   ],
   "source": [
    "sub_list"
   ]
  },
  {
   "cell_type": "code",
   "execution_count": 28,
   "id": "eafe66a5-c330-4ffd-863d-a140f8999d2f",
   "metadata": {},
   "outputs": [],
   "source": [
    "#Q6\n",
    "# in maths a complex number means an element of a number system that extends the real number with specific element\n",
    "# in python we have to take two real number and j as an  a imaginary number \n",
    "#i.g. (x+yj) here x and y are real number and j is a imaginary number "
   ]
  },
  {
   "cell_type": "code",
   "execution_count": 31,
   "id": "aaa9e493-2d94-49c3-a868-656cc734b8c1",
   "metadata": {},
   "outputs": [],
   "source": [
    "#Q7\n",
    "age=25 # in this example variable named age is assingned to value 25"
   ]
  },
  {
   "cell_type": "code",
   "execution_count": 32,
   "id": "5c9793d4-cc86-4dee-ac29-809e8471dfb8",
   "metadata": {},
   "outputs": [
    {
     "data": {
      "text/plain": [
       "25"
      ]
     },
     "execution_count": 32,
     "metadata": {},
     "output_type": "execute_result"
    }
   ],
   "source": [
    "age"
   ]
  },
  {
   "cell_type": "code",
   "execution_count": 33,
   "id": "dd4923c2-a385-4d31-ae65-94cf049638f0",
   "metadata": {},
   "outputs": [],
   "source": [
    "#Q8\n",
    "price = 9.99"
   ]
  },
  {
   "cell_type": "code",
   "execution_count": 35,
   "id": "c72a1bc2-ef4b-4f16-b2b5-9085af05af46",
   "metadata": {},
   "outputs": [
    {
     "data": {
      "text/plain": [
       "float"
      ]
     },
     "execution_count": 35,
     "metadata": {},
     "output_type": "execute_result"
    }
   ],
   "source": [
    "type(price)"
   ]
  },
  {
   "cell_type": "code",
   "execution_count": 36,
   "id": "bbc0757e-a306-4061-9955-e0e61dd36c69",
   "metadata": {},
   "outputs": [],
   "source": [
    "# as we can see the type of the variable value is float"
   ]
  },
  {
   "cell_type": "code",
   "execution_count": 37,
   "id": "7b1755e3-4771-4043-a20d-85c8825fbb28",
   "metadata": {},
   "outputs": [],
   "source": [
    "#Q9\n",
    "name = \"shaikh mohammad tabish\""
   ]
  },
  {
   "cell_type": "code",
   "execution_count": 40,
   "id": "a1221a94-2035-44f5-ac92-5c1e1a5d9423",
   "metadata": {},
   "outputs": [
    {
     "name": "stdout",
     "output_type": "stream",
     "text": [
      "shaikh mohammad tabish\n"
     ]
    }
   ],
   "source": [
    "print(name)"
   ]
  },
  {
   "cell_type": "code",
   "execution_count": 2,
   "id": "50af5773-0838-4d6b-92be-3874cde70b72",
   "metadata": {},
   "outputs": [],
   "source": [
    "#Q10\n",
    "s='hello,world!'"
   ]
  },
  {
   "cell_type": "code",
   "execution_count": 9,
   "id": "dd8a1a1d-07d3-420e-bff5-71aca6911336",
   "metadata": {},
   "outputs": [
    {
     "data": {
      "text/plain": [
       "'world'"
      ]
     },
     "execution_count": 9,
     "metadata": {},
     "output_type": "execute_result"
    }
   ],
   "source": [
    "s[-6:-1]"
   ]
  },
  {
   "cell_type": "code",
   "execution_count": 10,
   "id": "67568cf8-453f-46eb-9a26-8011246b2643",
   "metadata": {},
   "outputs": [],
   "source": [
    "#Q11\n",
    "is_student =  True"
   ]
  },
  {
   "cell_type": "code",
   "execution_count": 11,
   "id": "cd63118a-200a-4c9b-b158-9df070f2886c",
   "metadata": {},
   "outputs": [
    {
     "data": {
      "text/plain": [
       "bool"
      ]
     },
     "execution_count": 11,
     "metadata": {},
     "output_type": "execute_result"
    }
   ],
   "source": [
    "type(is_student)"
   ]
  },
  {
   "cell_type": "code",
   "execution_count": null,
   "id": "e979fe3f-1ae0-4d03-95ff-e4ece0c2a2b6",
   "metadata": {},
   "outputs": [],
   "source": []
  }
 ],
 "metadata": {
  "kernelspec": {
   "display_name": "Python 3 (ipykernel)",
   "language": "python",
   "name": "python3"
  },
  "language_info": {
   "codemirror_mode": {
    "name": "ipython",
    "version": 3
   },
   "file_extension": ".py",
   "mimetype": "text/x-python",
   "name": "python",
   "nbconvert_exporter": "python",
   "pygments_lexer": "ipython3",
   "version": "3.10.8"
  }
 },
 "nbformat": 4,
 "nbformat_minor": 5
}
